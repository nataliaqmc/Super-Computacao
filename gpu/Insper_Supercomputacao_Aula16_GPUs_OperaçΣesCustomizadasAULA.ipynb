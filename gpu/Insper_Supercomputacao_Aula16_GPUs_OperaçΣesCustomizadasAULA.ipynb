{
  "nbformat": 4,
  "nbformat_minor": 0,
  "metadata": {
    "colab": {
      "provenance": [],
      "gpuType": "T4"
    },
    "kernelspec": {
      "name": "python3",
      "display_name": "Python 3"
    },
    "language_info": {
      "name": "python"
    },
    "accelerator": "GPU"
  },
  "cells": [
    {
      "cell_type": "markdown",
      "source": [
        "\n"
      ],
      "metadata": {
        "id": "wreqqVfJDvRb"
      }
    },
    {
      "cell_type": "code",
      "source": [
        "%%writefile vetor.cu\n",
        " #include <iostream>\n",
        " #include <iomanip>\n",
        " #include <cstdlib>\n",
        " #include <chrono>\n",
        " #include <cstdlib>\n",
        " #include <algorithm>\n",
        " #include <thrust/device_vector.h>\n",
        " #include <thrust/host_vector.h>\n",
        " #include <thrust/transform.h>\n",
        " #include <thrust/reduce.h>\n",
        " #include <thrust/functional.h>\n",
        " #include <cmath>\n",
        " #include <random>\n",
        "\n",
        " using namespace std::chrono;\n",
        "\n",
        " void reportTime(const char* msg, steady_clock::duration span) {\n",
        "     auto ms = duration_cast<milliseconds>(span);\n",
        "     std::cout << msg << \" - levou - \" <<\n",
        "      ms.count() << \" milisegundos\" << std::endl;\n",
        " }\n",
        "\n",
        " // CRIE UMA FUNCTOR PARA CALCULAR A SQUARE\n",
        " struct Square {\n",
        "    __host__ __device__\n",
        "    float operator()(float x) {\n",
        "      return x * x;\n",
        "    }\n",
        " };\n",
        "\n",
        " // IMPLEMENTE O CALCULO DA MAGNITUDE COM THRUST\n",
        " float magnitude(thrust::device_vector<float>& v_d) {\n",
        "     float result;\n",
        "\n",
        "     thrust::device_vector<float> aux(v_d.size());\n",
        "\n",
        "\n",
        "     // Elevar ao quadrado cada elemento do vetor\n",
        "     thrust::transform(v_d.begin(), v_d.end(), aux.begin(), Square());\n",
        "\n",
        "\n",
        "     // Reducao do vetor pela soma\n",
        "     result = thrust::reduce(aux.begin(), aux.end(), 0.0, thrust::plus<float>());\n",
        "\n",
        "     // Extrai a raiz quadrada da soma\n",
        "     result = sqrt(result);\n",
        "\n",
        "     return result;\n",
        " }\n",
        "\n",
        " int main(int argc, char** argv) {\n",
        "     if (argc != 2) {\n",
        "         std::cerr << argv[0] << \": numero invalido de argumentos\\n\";\n",
        "         std::cerr << \"uso: \" << argv[0] << \"  tamanho do vetor\\n\";\n",
        "         return 1;\n",
        "     }\n",
        "     int n = std::atoi(argv[1]); //numero de elementos\n",
        "     steady_clock::time_point ts, te;\n",
        "\n",
        "     // Faça um  vector em thrust\n",
        "     thrust::device_vector<float> v_d(n);\n",
        "\n",
        "     // inicilize o  vector\n",
        "     ts = steady_clock::now();\n",
        "\n",
        "     //std::generate(v_d.begin(), v_d.end(), std::rand);\n",
        "     thrust::fill(v_d.begin(), v_d.end(), 1);\n",
        "\n",
        "\n",
        "     te = steady_clock::now();\n",
        "     reportTime(\"Inicializacao\", te - ts);\n",
        "\n",
        "     // Calcule a magnitude do vetor\n",
        "     ts = steady_clock::now();\n",
        "     //float len = magnitude(v_d);\n",
        "     float len = std::sqrt(thrust::transform_reduce( v_d.begin(), v_d.end(), Square(), 0.0, thrust::plus<float>()));\n",
        "\n",
        "     te = steady_clock::now();\n",
        "     reportTime(\"Tempo para calculo\", te - ts);\n",
        "\n",
        "\n",
        "     std::cout << std::fixed << std::setprecision(4);\n",
        "     std::cout << \"Magnitude : \" << len << std::endl;\n",
        " }"
      ],
      "metadata": {
        "colab": {
          "base_uri": "https://localhost:8080/"
        },
        "id": "vm4FRC9sD0gS",
        "outputId": "5de4ca60-b51f-498a-9ec4-1207505b15cf"
      },
      "execution_count": null,
      "outputs": [
        {
          "output_type": "stream",
          "name": "stdout",
          "text": [
            "Writing vetor.cu\n"
          ]
        }
      ]
    },
    {
      "cell_type": "code",
      "source": [
        "!nvcc -arch=sm_70 -std=c++14 vetor.cu -o vetor"
      ],
      "metadata": {
        "id": "fboOktIVH0mu"
      },
      "execution_count": null,
      "outputs": []
    },
    {
      "cell_type": "code",
      "source": [
        "!./vetor 100"
      ],
      "metadata": {
        "colab": {
          "base_uri": "https://localhost:8080/"
        },
        "id": "9-2nqkTRIFMk",
        "outputId": "873bf05a-fd07-44a8-c476-594dd923fe6f"
      },
      "execution_count": null,
      "outputs": [
        {
          "output_type": "stream",
          "name": "stdout",
          "text": [
            "Inicializacao - levou - 0 milisegundos\n",
            "Tempo para calculo - levou - 0 milisegundos\n",
            "Magnitude : 10.0000\n"
          ]
        }
      ]
    },
    {
      "cell_type": "code",
      "source": [],
      "metadata": {
        "id": "xovvp2vjLW-M"
      },
      "execution_count": null,
      "outputs": []
    }
  ]
}