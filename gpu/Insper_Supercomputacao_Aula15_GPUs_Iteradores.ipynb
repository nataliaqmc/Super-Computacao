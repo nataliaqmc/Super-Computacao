{
  "nbformat": 4,
  "nbformat_minor": 0,
  "metadata": {
    "colab": {
      "provenance": [],
      "gpuType": "T4"
    },
    "kernelspec": {
      "name": "python3",
      "display_name": "Python 3"
    },
    "language_info": {
      "name": "python"
    },
    "accelerator": "GPU"
  },
  "cells": [
    {
      "cell_type": "markdown",
      "source": [
        "Insper\n",
        "\n",
        "# Aula 14\n",
        "\n",
        "Iteradores"
      ],
      "metadata": {
        "id": "aOjOhpAqg3Ot"
      }
    },
    {
      "cell_type": "code",
      "execution_count": null,
      "metadata": {
        "colab": {
          "base_uri": "https://localhost:8080/"
        },
        "id": "fdM3EjTfgttn",
        "outputId": "c592d381-af7c-4e58-c81f-860cc1ad6728"
      },
      "outputs": [
        {
          "output_type": "stream",
          "name": "stdout",
          "text": [
            "Overwriting stocks.cu\n"
          ]
        }
      ],
      "source": [
        "%%writefile stocks.cu\n",
        "#include <iostream>\n",
        "#include <fstream>\n",
        "#include <vector>\n",
        "#include <cmath>\n",
        "#include <thrust/host_vector.h>\n",
        "#include <thrust/device_vector.h>\n",
        "#include <thrust/reduce.h>\n",
        "#include <thrust/extrema.h>\n",
        "\n",
        "using namespace std;\n",
        "\n",
        "int main() {\n",
        "    int n =  2518;\n",
        "    double value = 0.0;\n",
        "    chrono::duration<double> diff;\n",
        "\n",
        "    auto leitura_i = chrono::steady_clock::now();\n",
        "    thrust::host_vector<double> host(n,0);\n",
        "    for(int i = 0; i<n; i++){\n",
        "        cin >> value;\n",
        "        host[i] = value;\n",
        "    }\n",
        "    auto leitura_f = chrono::steady_clock::now();\n",
        "    diff  = leitura_f-leitura_i;\n",
        "    cout << \"Tempo de LEITURA (em segundos)  \" << diff.count() << endl;\n",
        "\n",
        "\n",
        "    auto copia_i = chrono::steady_clock::now();\n",
        "    thrust::device_vector<double> dev(host);\n",
        "    auto copia_f = chrono::steady_clock::now();\n",
        "    diff  = copia_f-copia_i;\n",
        "    cout << \"Tempo de CÓPIA (em segundos)  \" << diff.count() << endl;\n",
        "\n",
        "\n",
        "\n",
        "    // Calcula a média dos preços usando Thrust\n",
        "    double media = reduce(dev.begin(), dev.end()) / dev.size();\n",
        "\n",
        "    // Calcula o maior e o menor preço usando Thrust\n",
        "    auto maxMinPair = thrust::minmax_element(dev.begin(), dev.end());\n",
        "    double maiorPreco = *maxMinPair.second;\n",
        "    double menorPreco = *maxMinPair.first;\n",
        "\n",
        "    // Exibe os resultados\n",
        "    cout << \"Média dos preços nos últimos 10 anos: \" << media << endl;\n",
        "\n",
        "    // Preços no último ano\n",
        "    thrust::device_vector<double> lastYearPrices(dev.end() - 365, dev.end());\n",
        "    double lastYearMedia = thrust::reduce(lastYearPrices.begin(), lastYearPrices.end()) / lastYearPrices.size();\n",
        "\n",
        "    auto lastYearMaxMinPair = thrust::minmax_element(lastYearPrices.begin(), lastYearPrices.end());\n",
        "    double lastYearMaiorPreco = *lastYearMaxMinPair.second;\n",
        "    double lastYearMenorPreco = *lastYearMaxMinPair.first;\n",
        "\n",
        "    cout << \"Média dos preços no último ano: \" << lastYearMedia << endl;\n",
        "    cout << \"Maior preço dos últimos 10 anos: \" << maiorPreco << endl;\n",
        "    cout << \"Menor preço dos últimos 10 anos: \" << menorPreco << endl;\n",
        "    cout << \"Maior preço no último ano: \" << lastYearMaiorPreco << endl;\n",
        "    cout << \"Menor preço no último ano: \" << lastYearMenorPreco << endl;\n",
        "\n",
        "    return 0;\n",
        "}\n"
      ]
    },
    {
      "cell_type": "code",
      "source": [
        "!nvcc -arch=sm_70 -std=c++14 stocks.cu -o stocks"
      ],
      "metadata": {
        "colab": {
          "base_uri": "https://localhost:8080/"
        },
        "id": "JRC8c4Vtg6Lt",
        "outputId": "673404c5-bc64-426a-c1af-148f3fdd5977"
      },
      "execution_count": null,
      "outputs": [
        {
          "output_type": "stream",
          "name": "stdout",
          "text": [
            "\u001b[01m\u001b[0m\u001b[01mstocks.cu(15)\u001b[0m: \u001b[01;31merror\u001b[0m: name followed by \"::\" must be a class or namespace name\n",
            "\n",
            "\u001b[01m\u001b[0m\u001b[01mstocks.cu(15)\u001b[0m: \u001b[01;31merror\u001b[0m: expected an identifier\n",
            "\n",
            "\u001b[01m\u001b[0m\u001b[01mstocks.cu(15)\u001b[0m: \u001b[01;31merror\u001b[0m: expected a \";\"\n",
            "\n",
            "\u001b[01m\u001b[0m\u001b[01mstocks.cu(17)\u001b[0m: \u001b[01;31merror\u001b[0m: name followed by \"::\" must be a class or namespace name\n",
            "\n",
            "\u001b[01m\u001b[0m\u001b[01mstocks.cu(23)\u001b[0m: \u001b[01;31merror\u001b[0m: name followed by \"::\" must be a class or namespace name\n",
            "\n",
            "\u001b[01m\u001b[0m\u001b[01mstocks.cu(24)\u001b[0m: \u001b[01;31merror\u001b[0m: identifier \"\u001b[01mdiff\u001b[0m\" is undefined\n",
            "\n",
            "\u001b[01m\u001b[0m\u001b[01mstocks.cu(28)\u001b[0m: \u001b[01;31merror\u001b[0m: name followed by \"::\" must be a class or namespace name\n",
            "\n",
            "\u001b[01m\u001b[0m\u001b[01mstocks.cu(30)\u001b[0m: \u001b[01;31merror\u001b[0m: name followed by \"::\" must be a class or namespace name\n",
            "\n",
            "8 errors detected in the compilation of \"stocks.cu\".\n"
          ]
        }
      ]
    },
    {
      "cell_type": "code",
      "source": [
        "!./stocks < stocks.txt"
      ],
      "metadata": {
        "id": "OHyCD1RFjmKv"
      },
      "execution_count": null,
      "outputs": []
    },
    {
      "cell_type": "code",
      "source": [
        "%%writefile stocks1.cu\n",
        "#include<thrust/device_vector.h>\n",
        "#include <thrust/host_vector.h>\n",
        "#include <iostream>\n",
        "#include <chrono>\n",
        "using namespace std;\n",
        "int main() {\n",
        "    int n =  2518;\n",
        "    double value = 0.0;\n",
        "    std::chrono::duration<double> diff;\n",
        "\n",
        "    auto leitura_i = std::chrono::steady_clock::now();\n",
        "    thrust::host_vector<double> host(n,0);\n",
        "    for(int i = 0; i<n; i++){\n",
        "        cin >> value;\n",
        "        host[i] = value;\n",
        "    }\n",
        "    auto leitura_f = std::chrono::steady_clock::now();\n",
        "    diff  = leitura_f-leitura_i;\n",
        "    cout << \"Tempo de LEITURA (em segundos)  \" << diff.count() << endl;\n",
        "\n",
        "\n",
        "    auto copia_i = std::chrono::steady_clock::now();\n",
        "    thrust::device_vector<double> dev(host);\n",
        "    auto copia_f = std::chrono::steady_clock::now();\n",
        "    diff  = copia_f-copia_i;\n",
        "    cout << \"Tempo de CÓPIA (em segundos)  \" << diff.count() << endl;\n",
        "\n",
        "\n",
        "\n",
        "    // Calcula a média dos preços usando Thrust\n",
        "    double media = thrust::reduce(dev.begin(), dev.end()) / dev.size();\n",
        "\n",
        "    // Calcula o maior e o menor preço usando Thrust\n",
        "    auto maxMinPair = thrust::minmax_element(dev.begin(), dev.end());\n",
        "    double maiorPreco = *maxMinPair.second;\n",
        "    double menorPreco = *maxMinPair.first;\n",
        "\n",
        "    // Exibe os resultados\n",
        "    cout << \"Média dos preços nos últimos 10 anos: \" << media << endl;\n",
        "\n",
        "    // Preços no último ano\n",
        "    thrust::device_vector<double> lastYearPrices(dev.end() - 365, dev.end());\n",
        "    double lastYearMedia = thrust::reduce(lastYearPrices.begin(), lastYearPrices.end()) / lastYearPrices.size();\n",
        "\n",
        "    auto lastYearMaxMinPair = thrust::minmax_element(lastYearPrices.begin(), lastYearPrices.end());\n",
        "    double lastYearMaiorPreco = *lastYearMaxMinPair.second;\n",
        "    double lastYearMenorPreco = *lastYearMaxMinPair.first;\n",
        "\n",
        "    cout << \"Média dos preços no último ano: \" << lastYearMedia << endl;\n",
        "    cout << \"Maior preço dos últimos 10 anos: \" << maiorPreco << endl;\n",
        "    cout << \"Menor preço dos últimos 10 anos: \" << menorPreco << endl;\n",
        "    cout << \"Maior preço no último ano: \" << lastYearMaiorPreco << endl;\n",
        "    cout << \"Menor preço no último ano: \" << lastYearMenorPreco << endl;\n",
        "\n",
        "\n",
        "}"
      ],
      "metadata": {
        "colab": {
          "base_uri": "https://localhost:8080/"
        },
        "id": "pmZ4Ok2nlONO",
        "outputId": "89c7e29d-0a17-4871-85a1-435e4714aa1e"
      },
      "execution_count": null,
      "outputs": [
        {
          "output_type": "stream",
          "name": "stdout",
          "text": [
            "Overwriting stocks1.cu\n"
          ]
        }
      ]
    },
    {
      "cell_type": "code",
      "source": [
        "!nvcc -arch=sm_70 -std=c++14 stocks1.cu -o stocks1"
      ],
      "metadata": {
        "id": "EOF4KFwRlSmk"
      },
      "execution_count": null,
      "outputs": []
    },
    {
      "cell_type": "code",
      "source": [
        "!./stocks1 < stocks.txt"
      ],
      "metadata": {
        "colab": {
          "base_uri": "https://localhost:8080/"
        },
        "id": "JUaZRb9GlYrf",
        "outputId": "211bbfe2-1ba4-4a3d-dfbf-857a0ce3c3ab"
      },
      "execution_count": null,
      "outputs": [
        {
          "output_type": "stream",
          "name": "stdout",
          "text": [
            "Tempo de LEITURA (em segundos)  0.00317803\n",
            "Tempo de CÓPIA (em segundos)  0.114104\n",
            "Média dos preços nos últimos 10 anos: 494.207\n",
            "Média dos preços no último ano: 959.588\n",
            "Maior preço dos últimos 10 anos: 1187.56\n",
            "Menor preço dos últimos 10 anos: 130.044\n",
            "Maior preço no último ano: 1187.56\n",
            "Menor preço no último ano: 753.22\n"
          ]
        }
      ]
    },
    {
      "cell_type": "code",
      "source": [
        "%%writefile stocks2.cu\n",
        "#include <utility>\n",
        "#include <vector>\n",
        "#include <thrust/device_vector.h>\n",
        "#include <thrust/host_vector.h>\n",
        "#include <iostream>\n",
        "#include <chrono>\n",
        "\n",
        "using namespace std;\n",
        "\n",
        "int main() {\n",
        "    int n =  2518;\n",
        "    double apple, ms = 0.0;\n",
        "    std::chrono::duration<double> diff;\n",
        "\n",
        "    // Leitura do dado\n",
        "    auto leitura_i = std::chrono::steady_clock::now();\n",
        "    thrust::host_vector<double> H_apple(n);\n",
        "    thrust::host_vector<double> H_ms(n);\n",
        "    for(int i = 0; i<n; i++){\n",
        "        cin >> apple >> ms;\n",
        "        H_apple[i] = apple;\n",
        "        H_ms[i] = ms;\n",
        "    }\n",
        "    auto leitura_f = std::chrono::steady_clock::now();\n",
        "    diff  = leitura_f-leitura_i;\n",
        "    cout << \"Tempo de LEITURA (em segundos)  \" << diff.count() << endl;\n",
        "\n",
        "    // Copia o dados para a GPU\n",
        "    auto copia_i = std::chrono::steady_clock::now();\n",
        "    thrust::device_vector<double> D_apple = H_apple;\n",
        "    thrust::device_vector<double> D_ms = H_ms;\n",
        "    auto copia_f = std::chrono::steady_clock::now();\n",
        "    diff  = copia_f-copia_i;\n",
        "    cout << \"Tempo de CÓPIA (em segundos)  \" << diff.count() << endl;\n",
        "\n",
        "    // Obtém as diferenças dos preços\n",
        "    thrust::device_vector<double> diferencas(D_apple.size());\n",
        "    thrust::transform(D_ms.begin(), D_ms.end(),\n",
        "                      D_apple.begin(),\n",
        "                      diferencas.begin(),\n",
        "                      thrust::minus<double>());\n",
        "\n",
        "    // Obtém a média das diferenças\n",
        "    double media = thrust::reduce(diferencas.begin(), diferencas.end()) / diferencas.size();\n",
        "    cout << \"Diferença média de preços  \" << media << endl;\n",
        "\n",
        "    return 0;\n",
        "}"
      ],
      "metadata": {
        "colab": {
          "base_uri": "https://localhost:8080/"
        },
        "id": "aRyaVrTxoL0N",
        "outputId": "14471480-2164-4015-bd09-bd204d36a99c"
      },
      "execution_count": null,
      "outputs": [
        {
          "output_type": "stream",
          "name": "stdout",
          "text": [
            "Overwriting stocks2.cu\n"
          ]
        }
      ]
    },
    {
      "cell_type": "code",
      "source": [
        "!nvcc -arch=sm_70 -std=c++14 stocks2.cu -o stocks2"
      ],
      "metadata": {
        "id": "1dE6RWwdo7EN"
      },
      "execution_count": null,
      "outputs": []
    },
    {
      "cell_type": "code",
      "source": [
        "!./stocks2 < stocks2.csv"
      ],
      "metadata": {
        "colab": {
          "base_uri": "https://localhost:8080/"
        },
        "id": "dVo1DKdIo7Gc",
        "outputId": "91c64b54-3be0-42ab-be39-d8cc0609c355"
      },
      "execution_count": null,
      "outputs": [
        {
          "output_type": "stream",
          "name": "stdout",
          "text": [
            "Tempo de LEITURA (em segundos)  0.00818358\n",
            "Tempo de CÓPIA (em segundos)  0.185722\n",
            "Diferença média de preços  39.4165\n"
          ]
        }
      ]
    },
    {
      "cell_type": "code",
      "source": [],
      "metadata": {
        "id": "FwtefCQpjrgB"
      },
      "execution_count": null,
      "outputs": []
    }
  ]
}